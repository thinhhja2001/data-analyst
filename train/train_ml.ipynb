{
 "cells": [
  {
   "cell_type": "code",
   "execution_count": 6,
   "metadata": {},
   "outputs": [],
   "source": [
    "import pandas as pd\n",
    "\n",
    "from sklearn.ensemble import RandomForestRegressor\n",
    "from sklearn.metrics import mean_absolute_error\n",
    "from sklearn.model_selection import train_test_split\n",
    "\n",
    "iowa_file_path = \"train.csv\"\n",
    "\n",
    "home_data = pd.read_csv(iowa_file_path)\n",
    "\n",
    "y = home_data[\"SalePrice\"]\n",
    "\n",
    "feature_columns = ['LotArea', 'YearBuilt', '1stFlrSF',\n",
    "                   '2ndFlrSF', 'FullBath', 'BedroomAbvGr', 'TotRmsAbvGrd']\n",
    "\n",
    "X = home_data[feature_columns]\n",
    "\n",
    "\n",
    "\n"
   ]
  },
  {
   "cell_type": "code",
   "execution_count": 7,
   "metadata": {},
   "outputs": [
    {
     "name": "stdout",
     "output_type": "stream",
     "text": [
      "Validation MAE for Random Forest Model: 21,022\n"
     ]
    }
   ],
   "source": [
    "# Begin constructing model\n",
    "train_X, val_X, train_y, val_y = train_test_split(X, y)\n",
    "\n",
    "rf_model = RandomForestRegressor(random_state=1)\n",
    "\n",
    "rf_model.fit(train_X, train_y)\n",
    "\n",
    "rf_val_prediction = rf_model.predict(val_X)\n",
    "\n",
    "rf_val_mae = mean_absolute_error(val_y, rf_val_prediction)\n",
    "\n",
    "\n",
    "print(\"Validation MAE for Random Forest Model: {:,.0f}\".format(rf_val_mae))\n"
   ]
  },
  {
   "cell_type": "code",
   "execution_count": 8,
   "metadata": {},
   "outputs": [
    {
     "data": {
      "text/plain": [
       "0.8360343433602632"
      ]
     },
     "execution_count": 8,
     "metadata": {},
     "output_type": "execute_result"
    }
   ],
   "source": [
    "from sklearn.metrics import r2_score\n",
    "\n",
    "r2_score(val_y,rf_val_prediction)"
   ]
  },
  {
   "cell_type": "code",
   "execution_count": 9,
   "metadata": {},
   "outputs": [],
   "source": [
    "# f_model_on_full_data = RandomForestRegressor(random_state=1)\n",
    "# f_model_on_full_data.fit(X, y)\n",
    "\n",
    "# test_file_path = \"test.csv\"\n",
    "\n",
    "# test_data = pd.read_csv(test_file_path)\n",
    "\n",
    "# test_X = test_data[feature_columns]\n",
    "\n",
    "\n",
    "# test_preds = f_model_on_full_data.predict(test_X)\n",
    "# print(test_preds)\n"
   ]
  },
  {
   "cell_type": "code",
   "execution_count": 10,
   "metadata": {},
   "outputs": [],
   "source": [
    "\n",
    "# r2_score()"
   ]
  },
  {
   "cell_type": "code",
   "execution_count": 11,
   "metadata": {},
   "outputs": [],
   "source": [
    "# output = pd.DataFrame({'Id': test_data.Id, 'SalePrice': test_preds})\n",
    "\n",
    "# output.to_csv('submission.csv', index=False)\n",
    "\n"
   ]
  }
 ],
 "metadata": {
  "kernelspec": {
   "display_name": "Python 3",
   "language": "python",
   "name": "python3"
  },
  "language_info": {
   "codemirror_mode": {
    "name": "ipython",
    "version": 3
   },
   "file_extension": ".py",
   "mimetype": "text/x-python",
   "name": "python",
   "nbconvert_exporter": "python",
   "pygments_lexer": "ipython3",
   "version": "3.11.0"
  },
  "orig_nbformat": 4,
  "vscode": {
   "interpreter": {
    "hash": "c261aea317cc0286b3b3261fbba9abdec21eaa57589985bb7a274bf54d6cc0a7"
   }
  }
 },
 "nbformat": 4,
 "nbformat_minor": 2
}
